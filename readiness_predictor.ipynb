{
 "cells": [
  {
   "cell_type": "code",
   "execution_count": null,
   "id": "559668c7",
   "metadata": {},
   "outputs": [],
   "source": [
    "import streamlit as st\n",
    "import pandas as pd\n",
    "import numpy as np\n",
    "from sklearn.linear_model import LinearRegression\n",
    "from sklearn.model_selection import train_test_split\n",
    "\n",
    "# Load your data\n",
    "mydata = pd.read_csv(\"/Users/amitmishra/Desktop/Orlando City SC docs/oura_2019_trends.csv\")\n",
    "mydata['average_rhr'].fillna(mydata['average_rhr'].mean(), inplace=True)\n",
    "mydata['sleep_score'].fillna(mydata['sleep_score'].mean(), inplace=True)\n",
    "mydata['activity_score'].fillna(mydata['activity_score'].mean(), inplace=True)\n",
    "mydata['readiness_score'].fillna(mydata['readiness_score'].mean(), inplace=True)\n",
    "mydata.drop(\"date\", axis=1, inplace=True)\n",
    "\n",
    "# Sample data\n",
    "data = mydata\n",
    "df = pd.DataFrame(data)\n",
    "\n",
    "# Split the data into features (X) and target variable (y)\n",
    "X = df[['average_rhr', 'sleep_score', 'activity_score']]\n",
    "y = df['readiness_score']\n",
    "\n",
    "# Split the data into training and testing sets\n",
    "X_train, X_test, y_train, y_test = train_test_split(X, y, test_size=0.2, random_state=42)\n",
    "\n",
    "# Create a linear regression model\n",
    "model = LinearRegression()\n",
    "\n",
    "# Train the model\n",
    "model.fit(X_train, y_train)\n",
    "\n",
    "# Streamlit app\n",
    "def main():\n",
    "    st.title(\"Readiness Score Predictor\")\n",
    "\n",
    "    # Collect input features from the user\n",
    "    average_rhr = st.number_input(\"Enter Average RHR\", value=df['average_rhr'].mean())\n",
    "    sleep_score = st.number_input(\"Enter Sleep Score\", value=df['sleep_score'].mean())\n",
    "    activity_score = st.number_input(\"Enter Activity Score\", value=df['activity_score'].mean())\n",
    "\n",
    "    # Create a button to make predictions\n",
    "    if st.button(\"Predict Readiness Score\"):\n",
    "        # Package the features into a NumPy array\n",
    "        features = np.array([[average_rhr, sleep_score, activity_score]])\n",
    "\n",
    "        # Get the prediction\n",
    "        prediction = model.predict(features)[0]\n",
    "\n",
    "        # Display the prediction\n",
    "        st.success(f\"Predicted Readiness Score: {prediction:.2f}\")\n",
    "\n",
    "if __name__ == \"__main__\":\n",
    "    main()\n"
   ]
  }
 ],
 "metadata": {
  "kernelspec": {
   "display_name": "Python 3 (ipykernel)",
   "language": "python",
   "name": "python3"
  },
  "language_info": {
   "codemirror_mode": {
    "name": "ipython",
    "version": 3
   },
   "file_extension": ".py",
   "mimetype": "text/x-python",
   "name": "python",
   "nbconvert_exporter": "python",
   "pygments_lexer": "ipython3",
   "version": "3.9.13"
  }
 },
 "nbformat": 4,
 "nbformat_minor": 5
}
